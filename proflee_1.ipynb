{
  "nbformat": 4,
  "nbformat_minor": 0,
  "metadata": {
    "colab": {
      "provenance": [],
      "authorship_tag": "ABX9TyORbcJDBYun8SbKZd0QfKCf",
      "include_colab_link": true
    },
    "kernelspec": {
      "name": "python3",
      "display_name": "Python 3"
    },
    "language_info": {
      "name": "python"
    }
  },
  "cells": [
    {
      "cell_type": "markdown",
      "metadata": {
        "id": "view-in-github",
        "colab_type": "text"
      },
      "source": [
        "<a href=\"https://colab.research.google.com/github/hannnchu/cote/blob/master/proflee_1.ipynb\" target=\"_parent\"><img src=\"https://colab.research.google.com/assets/colab-badge.svg\" alt=\"Open In Colab\"/></a>"
      ]
    },
    {
      "cell_type": "code",
      "execution_count": 6,
      "metadata": {
        "id": "lnkBDmY-mqoP"
      },
      "outputs": [],
      "source": [
        "class Node:\n",
        "  def __init__(self,item: int, left=None, right=None):\n",
        "    self.item = item\n",
        "    self.left = left\n",
        "    self.right = right\n"
      ]
    },
    {
      "cell_type": "code",
      "source": [
        "class BinaryTree:\n",
        "  def __init__(self):\n",
        "    self._root = None\n",
        "\n",
        "  def exampleMethod(self, n):\n",
        "    if n != None:\n",
        "      if n.left: #None이면 False, 있으면 True\n",
        "        self.exampleMethod(n.left)\n",
        "      print(str(n.item),' ',end='')\n",
        "\n",
        "  def preorder(self, n):\n",
        "    if n != None:\n",
        "      print(str(n.item),' ',end='')\n",
        "      if n.left:\n",
        "        self.preorder(n.left)\n",
        "      if n.right:\n",
        "        self.preorder(n.right)\n",
        "\n",
        "  def inorder(self, n):\n",
        "    if n != None:\n",
        "      if n.left:\n",
        "        self.inorder(n.left)\n",
        "      print(str(n.item),' ',end='')\n",
        "      if n.right:\n",
        "        self.inorder(n.right)\n",
        "\n",
        "\n",
        "  def postorder(self,n):\n",
        "    if n!= None:\n",
        "      if n.left:\n",
        "        self.postorder(n.left)\n",
        "      if n.right:\n",
        "        self.postorder(n.right)\n",
        "      print(str(n.item),' ',end='')\n"
      ],
      "metadata": {
        "id": "u0SHn06d1XPW"
      },
      "execution_count": 18,
      "outputs": []
    },
    {
      "cell_type": "code",
      "source": [
        "t = BinaryTree()\n",
        "nA = Node('A')\n",
        "nB = Node('B')\n",
        "nC = Node('C')\n",
        "nD = Node('D')\n",
        "nE = Node('E')\n",
        "nF = Node('F')\n",
        "nG = Node('G')\n",
        "nH = Node('H')\n",
        "nI = Node('I')\n",
        "nJ = Node('J')\n",
        "nK = Node('K')\n",
        "\n",
        "nA.left = nB\n",
        "nA.right = nC\n",
        "nB.left = nD\n",
        "nB.right = nE\n",
        "nD.right = nH\n",
        "nC.left = nF\n",
        "nC.right = nG\n",
        "nF.left = nI\n",
        "nF.right = nJ\n",
        "nG.right = nK\n",
        "\n",
        "t.root = nA\n",
        "#t.exampleMethod(t.root)\n",
        "#t.preorder(t.root)\n",
        "#t.inorder(t.root)\n",
        "t.postorder(t.root)"
      ],
      "metadata": {
        "colab": {
          "base_uri": "https://localhost:8080/"
        },
        "id": "j4ffgFhC1fDV",
        "outputId": "a2b18ebc-e211-46d7-a645-3f345f954206"
      },
      "execution_count": 19,
      "outputs": [
        {
          "output_type": "stream",
          "name": "stdout",
          "text": [
            "H  D  E  B  I  J  F  K  G  C  A  "
          ]
        }
      ]
    },
    {
      "cell_type": "code",
      "source": [],
      "metadata": {
        "id": "MYiam8oh2qZV"
      },
      "execution_count": null,
      "outputs": []
    }
  ]
}