{
  "nbformat": 4,
  "nbformat_minor": 0,
  "metadata": {
    "colab": {
      "provenance": [],
      "include_colab_link": true
    },
    "kernelspec": {
      "name": "python3",
      "display_name": "Python 3"
    },
    "language_info": {
      "name": "python"
    }
  },
  "cells": [
    {
      "cell_type": "markdown",
      "metadata": {
        "id": "view-in-github",
        "colab_type": "text"
      },
      "source": [
        "<a href=\"https://colab.research.google.com/github/hannnchu/cote/blob/master/Practice_Search_Sorting_1122.ipynb\" target=\"_parent\"><img src=\"https://colab.research.google.com/assets/colab-badge.svg\" alt=\"Open In Colab\"/></a>"
      ]
    },
    {
      "cell_type": "markdown",
      "source": [
        "# Practice for search and sort"
      ],
      "metadata": {
        "id": "0Sz9z0Y4w20Z"
      }
    },
    {
      "cell_type": "markdown",
      "source": [
        "## Search"
      ],
      "metadata": {
        "id": "kUy_KTpFw9UJ"
      }
    },
    {
      "cell_type": "markdown",
      "source": [
        "### Sequential search"
      ],
      "metadata": {
        "id": "DtAjN1W-w-sb"
      }
    },
    {
      "cell_type": "code",
      "execution_count": 1,
      "metadata": {
        "id": "AgC3hwUDvuRI"
      },
      "outputs": [],
      "source": [
        "unordered_list = [5, 2, 9, 1, 5, 6, 7, 3, 8, 4, 10, 12, 15]\n",
        "ordered_list = [1, 2, 5, 5, 6, 7, 8, 9, 10, 12, 15]\n",
        "\n",
        "target_element = 12"
      ]
    },
    {
      "cell_type": "code",
      "source": [
        "def print_result(result, target_element):\n",
        "    if result != -1:\n",
        "        print(f\"Element {target_element} found at index {result}\")\n",
        "    else:\n",
        "        print(f\"Element {target_element} not found in the list\")"
      ],
      "metadata": {
        "id": "0rjEggT7Eh2x"
      },
      "execution_count": 2,
      "outputs": []
    },
    {
      "cell_type": "code",
      "source": [
        "def sequential_search_unordered(arr, target):\n",
        "    for i in range(len(arr)):\n",
        "      if arr[i] == target:\n",
        "        return i\n",
        "    return -1"
      ],
      "metadata": {
        "id": "1YWABfQUwRvn"
      },
      "execution_count": 3,
      "outputs": []
    },
    {
      "cell_type": "code",
      "source": [
        "def sequential_search_ordered(arr, target):\n",
        "    for i in range(len(arr)):\n",
        "      if arr[i] == target:\n",
        "        return i\n",
        "      elif arr[i] > target:\n",
        "        return -1\n",
        "    return -1"
      ],
      "metadata": {
        "id": "Ccm_PjALwTjM"
      },
      "execution_count": 4,
      "outputs": []
    },
    {
      "cell_type": "code",
      "source": [
        "# For unordered list\n",
        "result = sequential_search_unordered(unordered_list, target_element)\n",
        "print_result(result, target_element)\n",
        "\n",
        "# For ordered list\n",
        "result = sequential_search_ordered(ordered_list, target_element)\n",
        "print_result(result, target_element)\n"
      ],
      "metadata": {
        "colab": {
          "base_uri": "https://localhost:8080/"
        },
        "id": "MnledRjJwYMA",
        "outputId": "0086677d-c395-4708-af4d-8c3351e9681c"
      },
      "execution_count": 5,
      "outputs": [
        {
          "output_type": "stream",
          "name": "stdout",
          "text": [
            "Element 12 found at index 11\n",
            "Element 12 found at index 9\n"
          ]
        }
      ]
    },
    {
      "cell_type": "markdown",
      "source": [
        "### Binary search"
      ],
      "metadata": {
        "id": "RTWDhVKyxCOe"
      }
    },
    {
      "cell_type": "code",
      "source": [
        "def binary_search_recursive(arr, target, low, high):\n",
        "    if high < low:\n",
        "      return -1\n",
        "    mid = (low+high) //2\n",
        "\n",
        "    if arr[mid] > target:\n",
        "      return binary_search_recursive(arr, target, low, mid-1)\n",
        "    elif arr[mid] < target:\n",
        "      return binary_search_recursive(arr, target, mid+1, high)\n",
        "    else:\n",
        "      return mid"
      ],
      "metadata": {
        "id": "y4REu1xTwYGg"
      },
      "execution_count": 6,
      "outputs": []
    },
    {
      "cell_type": "code",
      "source": [
        "def binary_search_iterative(arr, target):\n",
        "    low = 0\n",
        "    high = len(arr) -1\n",
        "\n",
        "    while low <= high:\n",
        "        mid = (low+high) //2\n",
        "\n",
        "        if arr[mid] > target:\n",
        "            high = mid -1\n",
        "        elif arr[mid] < target:\n",
        "            low = mid +1\n",
        "        else:\n",
        "          return mid\n",
        "    return -1"
      ],
      "metadata": {
        "id": "OZDrm488wYDK"
      },
      "execution_count": 7,
      "outputs": []
    },
    {
      "cell_type": "code",
      "source": [
        "# Example usage with more than 10 values:\n",
        "result = binary_search_recursive(ordered_list, target_element, 0, len(ordered_list)-1)\n",
        "print_result(result, target_element)\n",
        "\n",
        "result = binary_search_iterative(ordered_list, target_element)\n",
        "print_result(result, target_element)"
      ],
      "metadata": {
        "colab": {
          "base_uri": "https://localhost:8080/"
        },
        "id": "8hYISWImwYAk",
        "outputId": "7827b7d0-09ca-499f-f328-cbf31daf4f0e"
      },
      "execution_count": 8,
      "outputs": [
        {
          "output_type": "stream",
          "name": "stdout",
          "text": [
            "Element 12 found at index 9\n",
            "Element 12 found at index 9\n"
          ]
        }
      ]
    },
    {
      "cell_type": "markdown",
      "source": [
        "### Compare the two algorithms for time"
      ],
      "metadata": {
        "id": "sZQAsRUhxEtp"
      }
    },
    {
      "cell_type": "code",
      "source": [
        "import time\n",
        "\n",
        "# Generate a large sorted list for testing\n",
        "test_list = list(range(1000000))\n",
        "\n",
        "# Test item (near the end of the list to make it harder for sequential search)\n",
        "test_target = 800000\n",
        "\n",
        "\n",
        "start_time = time.time()\n",
        "result = sequential_search_ordered(test_list, test_target)\n",
        "duration = time.time() - start_time\n",
        "print_result(result, test_target)\n",
        "print(f\"- Time taken by sequential_search_ordered: {duration:.10f} seconds\")\n",
        "\n",
        "# Measure time for Binary Search\n",
        "start_time = time.time()\n",
        "result = binary_search_recursive(test_list, test_target, 0, len(test_list)-1)\n",
        "duration = time.time() - start_time\n",
        "print_result(result, test_target)\n",
        "print(f\"- Time taken by binary_search_recursive: {duration:.10f} seconds\")\n",
        "\n",
        "start_time = time.time()\n",
        "result = binary_search_iterative(test_list, test_target)\n",
        "duration = time.time() - start_time\n",
        "print_result(result, test_target)\n",
        "print(f\"- Time taken by binary_search_iterative: {duration:.10f} seconds\")"
      ],
      "metadata": {
        "colab": {
          "base_uri": "https://localhost:8080/"
        },
        "id": "lfQIglkHwX5D",
        "outputId": "95b6f6f9-44aa-4945-9952-3b7a1ea7ab8c"
      },
      "execution_count": 9,
      "outputs": [
        {
          "output_type": "stream",
          "name": "stdout",
          "text": [
            "Element 800000 found at index 800000\n",
            "- Time taken by sequential_search_ordered: 0.0917756557 seconds\n",
            "Element 800000 found at index 800000\n",
            "- Time taken by binary_search_recursive: 0.0001139641 seconds\n",
            "Element 800000 found at index 800000\n",
            "- Time taken by binary_search_iterative: 0.0000684261 seconds\n"
          ]
        }
      ]
    },
    {
      "cell_type": "markdown",
      "source": [
        "## Sort"
      ],
      "metadata": {
        "id": "9xWqUrB9xmpW"
      }
    },
    {
      "cell_type": "code",
      "source": [
        "unsorted_list = [8, 5, 9, 2, 1, 7, 6]\n",
        "sorted_list = [1, 2, 5, 6, 7, 8, 9]\n",
        "print('Unsorted list:', unsorted_list)\n",
        "print('Sorted (Goal) list:', sorted_list)"
      ],
      "metadata": {
        "colab": {
          "base_uri": "https://localhost:8080/"
        },
        "id": "S7gLsTYzE3Mu",
        "outputId": "0b9cd315-c4d1-42a2-af9a-d679c5fe68c4"
      },
      "execution_count": 10,
      "outputs": [
        {
          "output_type": "stream",
          "name": "stdout",
          "text": [
            "Unsorted list: [8, 5, 9, 2, 1, 7, 6]\n",
            "Sorted (Goal) list: [1, 2, 5, 6, 7, 8, 9]\n"
          ]
        }
      ]
    },
    {
      "cell_type": "code",
      "source": [
        "def check_result(result):\n",
        "  sorted_list = [1, 2, 5, 6, 7, 8, 9]\n",
        "  if result == sorted_list:\n",
        "    print('Success! result: ', end='')\n",
        "    print(result)\n",
        "  else:\n",
        "    print('Fail... result: ', end='')\n",
        "    print(result)"
      ],
      "metadata": {
        "id": "Wt17RBIKE4CY"
      },
      "execution_count": 11,
      "outputs": []
    },
    {
      "cell_type": "markdown",
      "source": [
        "## insertion sort"
      ],
      "metadata": {
        "id": "3MEjIOESxmh3"
      }
    },
    {
      "cell_type": "code",
      "source": [
        "def insertion_sort(arr):\n",
        "    for i in range(1, len(arr)):\n",
        "      key = arr[i]\n",
        "      j = i -1\n",
        "      while j >=0 and key < arr[j]:\n",
        "          arr[j+1] = arr[j]\n",
        "          j -= 1\n",
        "      arr[j+1] = key\n",
        "    return arr"
      ],
      "metadata": {
        "id": "C4pYbt5gwXth"
      },
      "execution_count": 12,
      "outputs": []
    },
    {
      "cell_type": "code",
      "source": [
        "insertion_result = insertion_sort(unsorted_list.copy())"
      ],
      "metadata": {
        "id": "zlLLmtehwXqz"
      },
      "execution_count": 13,
      "outputs": []
    },
    {
      "cell_type": "code",
      "source": [
        "check_result(insertion_result)\n"
      ],
      "metadata": {
        "colab": {
          "base_uri": "https://localhost:8080/"
        },
        "id": "oMxry_7oFEi9",
        "outputId": "4f430db4-7bd5-4529-bb14-c9f68ee22efc"
      },
      "execution_count": 14,
      "outputs": [
        {
          "output_type": "stream",
          "name": "stdout",
          "text": [
            "Success! result: [1, 2, 5, 6, 7, 8, 9]\n"
          ]
        }
      ]
    },
    {
      "cell_type": "markdown",
      "source": [
        "### Exchange (Bubble) Sort"
      ],
      "metadata": {
        "id": "BDjJxyMoxprM"
      }
    },
    {
      "cell_type": "code",
      "source": [
        "def bubble_sort(arr):\n",
        "    n = len(arr)\n",
        "    for i in range(n):\n",
        "        for j in range(0, n-i-1):\n",
        "            if arr[j] > arr[j+1]:\n",
        "                arr[j], arr[j+1] = arr[j+1], arr[j]\n",
        "    return arr"
      ],
      "metadata": {
        "id": "s4c1VQj2wXn8"
      },
      "execution_count": 15,
      "outputs": []
    },
    {
      "cell_type": "code",
      "source": [
        "bubble_result = bubble_sort(unsorted_list.copy())"
      ],
      "metadata": {
        "id": "fixy4CyXwXk4"
      },
      "execution_count": 16,
      "outputs": []
    },
    {
      "cell_type": "code",
      "source": [
        "check_result(bubble_result)"
      ],
      "metadata": {
        "colab": {
          "base_uri": "https://localhost:8080/"
        },
        "id": "M6vdAPQdFLW6",
        "outputId": "585d33bd-78a9-4c95-96c3-7e3e2cd3a0b2"
      },
      "execution_count": 17,
      "outputs": [
        {
          "output_type": "stream",
          "name": "stdout",
          "text": [
            "Success! result: [1, 2, 5, 6, 7, 8, 9]\n"
          ]
        }
      ]
    },
    {
      "cell_type": "markdown",
      "source": [
        "### Selection Sort"
      ],
      "metadata": {
        "id": "0EZcwO4Sxtdw"
      }
    },
    {
      "cell_type": "code",
      "source": [
        "def selection_sort(arr):\n",
        "    for i in range(len(arr)):\n",
        "        min_idx = i\n",
        "        for j in range(i+1, len(arr)):\n",
        "            if arr[j] < arr[min_idx]:\n",
        "                min_idx = j\n",
        "        arr[i] , arr[min_idx] = arr[min_idx] , arr[i]\n",
        "    return arr"
      ],
      "metadata": {
        "id": "qmn1lmJywXh0"
      },
      "execution_count": 36,
      "outputs": []
    },
    {
      "cell_type": "code",
      "source": [
        "selection_result = selection_sort(unsorted_list.copy())"
      ],
      "metadata": {
        "id": "W9SLw-AiwXew"
      },
      "execution_count": 37,
      "outputs": []
    },
    {
      "cell_type": "code",
      "source": [
        "check_result(selection_result)"
      ],
      "metadata": {
        "colab": {
          "base_uri": "https://localhost:8080/"
        },
        "id": "dihLxweQFPcC",
        "outputId": "470fa4ba-2f5f-48b9-e01d-25b17e297bfb"
      },
      "execution_count": 38,
      "outputs": [
        {
          "output_type": "stream",
          "name": "stdout",
          "text": [
            "Success! result: [1, 2, 5, 6, 7, 8, 9]\n"
          ]
        }
      ]
    },
    {
      "cell_type": "markdown",
      "source": [
        "### Merge Sort"
      ],
      "metadata": {
        "id": "KekgcCOnzXIf"
      }
    },
    {
      "cell_type": "code",
      "source": [
        "def merge_sort(arr):\n",
        "    for i in range(len(arr)):\n",
        "        min_idx = i\n",
        "        for j in range(i+1, len(arr)):\n",
        "            if arr[j] < arr[min_idx]:\n",
        "                min_idx = j\n",
        "        arr[i], arr[min_idx] = arr[min_idx], arr[i]\n",
        "    return arr"
      ],
      "metadata": {
        "id": "z5ntpe4vwXXu"
      },
      "execution_count": 18,
      "outputs": []
    },
    {
      "cell_type": "code",
      "source": [
        "merge_result = merge_sort(unsorted_list.copy())"
      ],
      "metadata": {
        "id": "EwALxHZHwXUT"
      },
      "execution_count": 19,
      "outputs": []
    },
    {
      "cell_type": "code",
      "source": [
        "check_result(merge_result)"
      ],
      "metadata": {
        "colab": {
          "base_uri": "https://localhost:8080/"
        },
        "id": "XVSPWpaGFTxr",
        "outputId": "32253139-ae97-422c-9734-5881b2c8c6be"
      },
      "execution_count": 20,
      "outputs": [
        {
          "output_type": "stream",
          "name": "stdout",
          "text": [
            "Success! result: [1, 2, 5, 6, 7, 8, 9]\n"
          ]
        }
      ]
    },
    {
      "cell_type": "markdown",
      "source": [
        "### Quick Sort"
      ],
      "metadata": {
        "id": "vMvIdF1uzaP4"
      }
    },
    {
      "cell_type": "code",
      "source": [
        "\n",
        "def quick_sort(arr):\n",
        "    if len(arr) <= 1:\n",
        "        return arr\n",
        "    pivot = arr[len(arr)//2]\n",
        "    left = [x for x in arr if x < pivot]\n",
        "    middle = [x for x in arr if x == pivot]\n",
        "    right = [x for x in arr if x > pivot]\n",
        "    return quick_sort(left) + middle + quick_sort(right)"
      ],
      "metadata": {
        "id": "eCc2sQT2wlCv"
      },
      "execution_count": 21,
      "outputs": []
    },
    {
      "cell_type": "code",
      "source": [
        "quick_result = quick_sort(unsorted_list.copy())"
      ],
      "metadata": {
        "id": "ydc9osOZwmTM"
      },
      "execution_count": 22,
      "outputs": []
    },
    {
      "cell_type": "code",
      "source": [
        "check_result(quick_result)"
      ],
      "metadata": {
        "colab": {
          "base_uri": "https://localhost:8080/"
        },
        "id": "dDJyMZaMFX5b",
        "outputId": "59186a49-3dc1-479a-b04c-94d6792661f5"
      },
      "execution_count": 23,
      "outputs": [
        {
          "output_type": "stream",
          "name": "stdout",
          "text": [
            "Success! result: [1, 2, 5, 6, 7, 8, 9]\n"
          ]
        }
      ]
    },
    {
      "cell_type": "markdown",
      "source": [
        "### Comparison of these algorithms for time"
      ],
      "metadata": {
        "id": "GUbAbweAzdjR"
      }
    },
    {
      "cell_type": "code",
      "source": [
        "# 성능 측정 함수\n",
        "def measure_time(func, arr):\n",
        "    start = time.time()\n",
        "    func(arr)\n",
        "    end = time.time()\n",
        "    return end - start"
      ],
      "metadata": {
        "id": "JjIMT-Kswn3W"
      },
      "execution_count": 34,
      "outputs": []
    },
    {
      "cell_type": "code",
      "source": [
        "import random\n",
        "# 무작위 배열 생성\n",
        "arr = [random.randint(0, 3000) for _ in range(3000)]\n",
        "\n",
        "# 각 정렬 알고리즘 성능 측정 및 출력\n",
        "for sort_func in [insertion_sort, bubble_sort, selection_sort, merge_sort, quick_sort]:\n",
        "    arr_copy = arr.copy()\n",
        "    time_taken = measure_time(sort_func, arr_copy)\n",
        "    print(f\"{sort_func.__name__}: {time_taken:.5f} seconds\")"
      ],
      "metadata": {
        "colab": {
          "base_uri": "https://localhost:8080/"
        },
        "id": "yO5ZQaEiwn1a",
        "outputId": "5aaf4137-3821-4e75-8317-bc8acc4623be"
      },
      "execution_count": 35,
      "outputs": [
        {
          "output_type": "stream",
          "name": "stdout",
          "text": [
            "insertion_sort: 0.43265 seconds\n",
            "bubble_sort: 1.05273 seconds\n",
            "selection_sort: 0.85736 seconds\n",
            "merge_sort: 0.79576 seconds\n",
            "quick_sort: 0.01459 seconds\n"
          ]
        }
      ]
    },
    {
      "cell_type": "markdown",
      "source": [
        "# Assignments\n",
        "\n",
        "There is Patient database which contains 15 person."
      ],
      "metadata": {
        "id": "No1Pgu2uzxkr"
      }
    },
    {
      "cell_type": "code",
      "source": [
        "class Patient:\n",
        "    def __init__(self, patient_id, name, age, gender, medical_history, contact_info):\n",
        "        self.patient_id = patient_id\n",
        "        self.name = name\n",
        "        self.age = age\n",
        "        self.gender = gender\n",
        "        self.medical_history = medical_history\n",
        "        self.contact_info = contact_info"
      ],
      "metadata": {
        "id": "w6l07Bsbwnvi"
      },
      "execution_count": 41,
      "outputs": []
    },
    {
      "cell_type": "code",
      "source": [
        "# Sample patient data\n",
        "patients_data = [\n",
        "    Patient(104, \"Daisy White\", 60, \"Female\", \"Diabetes\", \"daisy@example.com\"),\n",
        "    Patient(102, \"Bob Johnson\", 45, \"Male\", \"Hypertension\", \"bob@example.com\"),\n",
        "    Patient(105, \"Ella Davis\", 42, \"Female\", \"No major issues\", \"ella@example.com\"),\n",
        "    Patient(109, \"Ivy Adams\", 55, \"Female\", \"Arthritis\", \"ivy@example.com\"),\n",
        "    Patient(113, \"Mia Mitchell\", 59, \"Female\", \"Hypothyroidism\", \"mia@example.com\"),\n",
        "    Patient(112, \"Liam Clark\", 34, \"Male\", \"Allergies\", \"liam@example.com\"),\n",
        "    Patient(107, \"Grace Lee\", 31, \"Female\", \"Migraine\", \"grace@example.com\"),\n",
        "    Patient(103, \"Charlie Brown\", 28, \"Male\", \"Asthma\", \"charlie@example.com\"),\n",
        "    Patient(111, \"Katie Harris\", 48, \"Female\", \"Osteoporosis\", \"katie@example.com\"),\n",
        "    Patient(108, \"Henry Martin\", 38, \"Male\", \"High cholesterol\", \"henry@example.com\"),\n",
        "    Patient(106, \"Frank Wilson\", 50, \"Male\", \"Heart disease\", \"frank@example.com\"),\n",
        "    Patient(101, \"Alice Smith\", 35, \"Female\", \"No major issues\", \"alice@example.com\"),\n",
        "    Patient(115, \"Olivia Turner\", 30, \"Female\", \"No major issues\", \"olivia@example.com\"),\n",
        "    Patient(110, \"Jack Turner\", 27, \"Male\", \"No major issues\", \"jack@example.com\"),\n",
        "    Patient(114, \"Noah Young\", 39, \"Male\", \"Anxiety\", \"noah@example.com\"),\n",
        "]"
      ],
      "metadata": {
        "id": "Pla-W78Uwnth"
      },
      "execution_count": 42,
      "outputs": []
    },
    {
      "cell_type": "markdown",
      "source": [
        "### Assignment 1: Binary Search - Patient ID Lookup\n",
        "\n",
        "`Scenario`\n",
        "- In a busy hospital environment, quick access to patient information is crucial, especially during emergencies. You are tasked to create a patient ID lookup system using a binary search algorithm. This system will help healthcare professionals rapidly find patient details in a large database containing thousands of records.\n",
        "\n",
        "`Objective`\n",
        "- Develop and implement a binary search algorithm in Python. This algorithm should efficiently search for and display patient information based on their unique patient IDs.\n",
        "\n",
        "\n",
        "`Instructions`\n",
        "- Provide a list of patient records, each with a unique patient ID.\n",
        "- Task students with creating a Python program that uses a binary search algorithm to locate and display specific patient information based on the patient ID.\n",
        "- Ensure students test the program with various patient IDs to verify its accuracy and efficiency.\n"
      ],
      "metadata": {
        "id": "QZXAO5-CwtBP"
      }
    },
    {
      "cell_type": "code",
      "source": [
        "def binary_search_patients_by_id(patients, target_id):\n",
        "    left = 0\n",
        "    right = len(patients) - 1\n",
        "\n",
        "    while left <= right:\n",
        "        mid = (left + right) // 2\n",
        "        current_patient = patients[mid]\n",
        "\n",
        "        if current_patient.patient_id == target_id:\n",
        "            return current_patient\n",
        "        elif current_patient.patient_id < target_id:\n",
        "            left = mid +1\n",
        "        else:\n",
        "            right = mid -1\n",
        "    return None\n",
        "\n",
        "target_patient_id = 111\n",
        "found_patient = binary_search_patients_by_id(patients_data, target_patient_id)\n",
        "\n",
        "if found_patient:\n",
        "    print(f\"Patient with ID {target_patient_id} found:\")\n",
        "    print(f\"Name: {found_patient.name}\")\n",
        "    print(f\"Age: {found_patient.age}\")\n",
        "else:\n",
        "    print(f\"Patient with ID {target_patient_id} not found in the database.\")\n"
      ],
      "metadata": {
        "colab": {
          "base_uri": "https://localhost:8080/"
        },
        "id": "jDaM3ccEwut_",
        "outputId": "ea4e1d13-e517-49b6-da15-5931955baffc"
      },
      "execution_count": 43,
      "outputs": [
        {
          "output_type": "stream",
          "name": "stdout",
          "text": [
            "Patient with ID 111 not found in the database.\n"
          ]
        }
      ]
    },
    {
      "cell_type": "markdown",
      "source": [
        "### Assignment 2: Merge Sort - Medical Records Sorting\n",
        "\n",
        "`Scenario`\n",
        "- The hospital's patient records are currently unordered, making it time-consuming to find specific patient information. Your task is to organize these records in ascending order based on patient IDs.\n",
        "\n",
        "`Objective`\n",
        "- Implement an insertion sort algorithm in Python to sort a list of patient records by their IDs.\n",
        "\n",
        "`Instructions`\n",
        "- You will be provided with an unordered list of patient records, each identified by a unique patient ID.\n",
        "- Write a Python program utilizing the insertion sort algorithm to sort the records in ascending order of patient IDs.\n",
        "- Test the sorting algorithm to ensure it correctly orders the patient records.\n"
      ],
      "metadata": {
        "id": "rdluKQKvws67"
      }
    },
    {
      "cell_type": "code",
      "source": [
        "def merge_sort_patients(patients):\n",
        "    if len(patients) > 1:\n",
        "        mid = len(patients) // 2\n",
        "        L = patients[:mid]\n",
        "        R = patients[mid:]\n",
        "\n",
        "        merge_sort_patients(L)\n",
        "        merge_sort_patients(R)\n",
        "\n",
        "        i = j = k = 0\n",
        "\n",
        "        while i < len(L) and j < len(R):\n",
        "            if L[i].name < R[j].name:\n",
        "                patients[k] = L[i]\n",
        "                i += 1\n",
        "            else:\n",
        "                patients[k] = R[j]\n",
        "                j += 1\n",
        "            k += 1\n",
        "\n",
        "        while i < len(L):\n",
        "            patients[k] = L[i]\n",
        "            i += 1\n",
        "            k += 1\n",
        "\n",
        "        while j < len(R):\n",
        "            patients[k] = R[j]\n",
        "            j += 1\n",
        "            k += 1\n",
        "\n",
        "    return patients\n",
        "\n",
        "sorted_patients = merge_sort_patients(patients_data)\n",
        "\n",
        "print('Before sorting')\n",
        "for patient in patients_data:\n",
        "    print(f\"\\tPatient ID: {patient.patient_id}, Name: {patient.name}\")\n",
        "\n",
        "print('-'*50)\n",
        "print('After sorting')\n",
        "for patient in sorted_patients:\n",
        "    print(f\"\\tPatient ID: {patient.patient_id}, Name: {patient.name}\")"
      ],
      "metadata": {
        "colab": {
          "base_uri": "https://localhost:8080/"
        },
        "id": "hrAPOVl9wxin",
        "outputId": "6d5876a2-8cde-4598-bbc0-bc9614e58f04"
      },
      "execution_count": 46,
      "outputs": [
        {
          "output_type": "stream",
          "name": "stdout",
          "text": [
            "Before sorting\n",
            "\tPatient ID: 101, Name: Alice Smith\n",
            "\tPatient ID: 102, Name: Bob Johnson\n",
            "\tPatient ID: 103, Name: Charlie Brown\n",
            "\tPatient ID: 104, Name: Daisy White\n",
            "\tPatient ID: 105, Name: Ella Davis\n",
            "\tPatient ID: 106, Name: Frank Wilson\n",
            "\tPatient ID: 107, Name: Grace Lee\n",
            "\tPatient ID: 108, Name: Henry Martin\n",
            "\tPatient ID: 109, Name: Ivy Adams\n",
            "\tPatient ID: 110, Name: Jack Turner\n",
            "\tPatient ID: 111, Name: Katie Harris\n",
            "\tPatient ID: 112, Name: Liam Clark\n",
            "\tPatient ID: 113, Name: Mia Mitchell\n",
            "\tPatient ID: 114, Name: Noah Young\n",
            "\tPatient ID: 115, Name: Olivia Turner\n",
            "--------------------------------------------------\n",
            "After sorting\n",
            "\tPatient ID: 101, Name: Alice Smith\n",
            "\tPatient ID: 102, Name: Bob Johnson\n",
            "\tPatient ID: 103, Name: Charlie Brown\n",
            "\tPatient ID: 104, Name: Daisy White\n",
            "\tPatient ID: 105, Name: Ella Davis\n",
            "\tPatient ID: 106, Name: Frank Wilson\n",
            "\tPatient ID: 107, Name: Grace Lee\n",
            "\tPatient ID: 108, Name: Henry Martin\n",
            "\tPatient ID: 109, Name: Ivy Adams\n",
            "\tPatient ID: 110, Name: Jack Turner\n",
            "\tPatient ID: 111, Name: Katie Harris\n",
            "\tPatient ID: 112, Name: Liam Clark\n",
            "\tPatient ID: 113, Name: Mia Mitchell\n",
            "\tPatient ID: 114, Name: Noah Young\n",
            "\tPatient ID: 115, Name: Olivia Turner\n"
          ]
        }
      ]
    },
    {
      "cell_type": "markdown",
      "source": [
        "### Assignment 3: Quick Sort - Analyzing Patients' Medical Histories\n",
        "\n",
        "`Scenario`\n",
        "- In a research institution, scientists are studying the relationships between patient medical histories and disease outcomes. To facilitate this research, you need to create a program that categorizes patients into three groups based on the length of their medical histories: \"Low Complexity,\" \"Moderate Complexity,\" and \"High Complexity.\"\n",
        "\n",
        "`Objective`\n",
        "-  Implement the quick sort algorithm to efficiently categorize patients into three complexity groups based on the length of their medical histories.\n",
        "\n",
        "`Instructions`\n",
        "- Provide a list of patient records with varying medical history lengths, and instruct students to create a Python program that uses quick sort to categorize patients into the three complexity groups. Students should also validate the results by checking patient assignments to the correct categories.\n"
      ],
      "metadata": {
        "id": "Hwmz1p9Zwsj0"
      }
    },
    {
      "cell_type": "code",
      "source": [
        "def quick_sort_patients(patients):\n",
        "    if len(patients) <= 1:\n",
        "        return patients\n",
        "\n",
        "    pivot = patients[len(patients) // 2]\n",
        "    low_complexity = [patient for patient in patients if len(patient.medical_history) < len(pivot.medical_history)]\n",
        "    moderate_complexity = [patient for patient in patients if len(patient.medical_history) == len(pivot.medical_history)]\n",
        "    high_complexity = [patient for patient in patients if len(patient.medical_history) > len(pivot.medical_history)]\n",
        "\n",
        "    return quick_sort_patients(low_complexity) + moderate_complexity + quick_sort_patients(high_complexity)\n",
        "\n",
        "# Example usage\n",
        "sorted_patients = quick_sort_patients(patients_data)\n",
        "\n",
        "print('Before sorting')\n",
        "for patient in patients_data:\n",
        "    print(f\"\\tPatient ID: {patient.patient_id}, Name: {patient.name}, Medical History: {patient.medical_history}\")\n",
        "\n",
        "print('-'*50)\n",
        "print('After sorting')\n",
        "for patient in sorted_patients:\n",
        "    print(f\"\\tPatient ID: {patient.patient_id}, Name: {patient.name}, Medical History: {patient.medical_history}\")\n"
      ],
      "metadata": {
        "colab": {
          "base_uri": "https://localhost:8080/"
        },
        "id": "A_Se2FlmwnrL",
        "outputId": "453937a4-f7d3-4b0b-d0d0-6027ad5c9dac"
      },
      "execution_count": 45,
      "outputs": [
        {
          "output_type": "stream",
          "name": "stdout",
          "text": [
            "Before sorting\n",
            "\tPatient ID: 101, Name: Alice Smith, Medical History: No major issues\n",
            "\tPatient ID: 102, Name: Bob Johnson, Medical History: Hypertension\n",
            "\tPatient ID: 103, Name: Charlie Brown, Medical History: Asthma\n",
            "\tPatient ID: 104, Name: Daisy White, Medical History: Diabetes\n",
            "\tPatient ID: 105, Name: Ella Davis, Medical History: No major issues\n",
            "\tPatient ID: 106, Name: Frank Wilson, Medical History: Heart disease\n",
            "\tPatient ID: 107, Name: Grace Lee, Medical History: Migraine\n",
            "\tPatient ID: 108, Name: Henry Martin, Medical History: High cholesterol\n",
            "\tPatient ID: 109, Name: Ivy Adams, Medical History: Arthritis\n",
            "\tPatient ID: 110, Name: Jack Turner, Medical History: No major issues\n",
            "\tPatient ID: 111, Name: Katie Harris, Medical History: Osteoporosis\n",
            "\tPatient ID: 112, Name: Liam Clark, Medical History: Allergies\n",
            "\tPatient ID: 113, Name: Mia Mitchell, Medical History: Hypothyroidism\n",
            "\tPatient ID: 114, Name: Noah Young, Medical History: Anxiety\n",
            "\tPatient ID: 115, Name: Olivia Turner, Medical History: No major issues\n",
            "--------------------------------------------------\n",
            "After sorting\n",
            "\tPatient ID: 103, Name: Charlie Brown, Medical History: Asthma\n",
            "\tPatient ID: 114, Name: Noah Young, Medical History: Anxiety\n",
            "\tPatient ID: 104, Name: Daisy White, Medical History: Diabetes\n",
            "\tPatient ID: 107, Name: Grace Lee, Medical History: Migraine\n",
            "\tPatient ID: 109, Name: Ivy Adams, Medical History: Arthritis\n",
            "\tPatient ID: 112, Name: Liam Clark, Medical History: Allergies\n",
            "\tPatient ID: 102, Name: Bob Johnson, Medical History: Hypertension\n",
            "\tPatient ID: 111, Name: Katie Harris, Medical History: Osteoporosis\n",
            "\tPatient ID: 106, Name: Frank Wilson, Medical History: Heart disease\n",
            "\tPatient ID: 113, Name: Mia Mitchell, Medical History: Hypothyroidism\n",
            "\tPatient ID: 101, Name: Alice Smith, Medical History: No major issues\n",
            "\tPatient ID: 105, Name: Ella Davis, Medical History: No major issues\n",
            "\tPatient ID: 110, Name: Jack Turner, Medical History: No major issues\n",
            "\tPatient ID: 115, Name: Olivia Turner, Medical History: No major issues\n",
            "\tPatient ID: 108, Name: Henry Martin, Medical History: High cholesterol\n"
          ]
        }
      ]
    },
    {
      "cell_type": "code",
      "source": [],
      "metadata": {
        "id": "dhyXM6wHGOHn"
      },
      "execution_count": null,
      "outputs": []
    }
  ]
}